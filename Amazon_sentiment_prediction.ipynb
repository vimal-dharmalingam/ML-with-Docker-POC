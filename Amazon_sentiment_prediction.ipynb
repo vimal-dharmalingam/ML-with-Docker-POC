{
 "cells": [
  {
   "cell_type": "code",
   "execution_count": 1,
   "metadata": {},
   "outputs": [],
   "source": [
    "# https://www.kaggle.com/aherparesh/sentiment-analysis-on-amazon-product-rnn-97-acc\n",
    "# https://www.kaggle.com/lele1995/amazon-reviews-sentiment-analysis"
   ]
  },
  {
   "cell_type": "code",
   "execution_count": 3,
   "metadata": {
    "collapsed": true
   },
   "outputs": [
    {
     "name": "stderr",
     "output_type": "stream",
     "text": [
      "[nltk_data] Downloading package punkt to\n",
      "[nltk_data]     C:\\Users\\vimald\\AppData\\Roaming\\nltk_data...\n",
      "[nltk_data]   Package punkt is already up-to-date!\n",
      "[nltk_data] Downloading package wordnet to\n",
      "[nltk_data]     C:\\Users\\vimald\\AppData\\Roaming\\nltk_data...\n",
      "[nltk_data]   Package wordnet is already up-to-date!\n",
      "[nltk_data] Downloading package stopwords to\n",
      "[nltk_data]     C:\\Users\\vimald\\AppData\\Roaming\\nltk_data...\n",
      "[nltk_data]   Package stopwords is already up-to-date!\n"
     ]
    }
   ],
   "source": [
    "import pandas as pd\n",
    "import numpy as np\n",
    "import pickle\n",
    "from wordcloud import WordCloud\n",
    "import matplotlib.pyplot as plt\n",
    "import seaborn as sns\n",
    "import nltk\n",
    "nltk.download('punkt')\n",
    "nltk.download('wordnet')\n",
    "nltk.download('stopwords')\n",
    "from nltk.corpus import stopwords\n",
    "from nltk.stem import WordNetLemmatizer\n",
    "from nltk.tokenize import word_tokenize\n",
    "\n",
    "test_data=pd.read_csv('test_data_sentiment_analysis.csv').drop('Unnamed: 0',axis=1)\n",
    "test_data\n",
    "\n",
    "# load the model from disk\n",
    "trained_model_rf= pickle.load(open('trained_model_rf_sentiment_analysis_10872_features.pkl', 'rb'))\n",
    "print(trained_model_rf)\n",
    "\n",
    "# Testing phase\n",
    "trained_tfidf_vector= pickle.load(open(\"tfidf1.pkl\", 'rb'))"
   ]
  },
  {
   "cell_type": "code",
   "execution_count": 67,
   "metadata": {
    "collapsed": true
   },
   "outputs": [
    {
     "data": {
      "text/html": [
       "<div>\n",
       "<style scoped>\n",
       "    .dataframe tbody tr th:only-of-type {\n",
       "        vertical-align: middle;\n",
       "    }\n",
       "\n",
       "    .dataframe tbody tr th {\n",
       "        vertical-align: top;\n",
       "    }\n",
       "\n",
       "    .dataframe thead th {\n",
       "        text-align: right;\n",
       "    }\n",
       "</style>\n",
       "<table border=\"1\" class=\"dataframe\">\n",
       "  <thead>\n",
       "    <tr style=\"text-align: right;\">\n",
       "      <th></th>\n",
       "      <th>id</th>\n",
       "      <th>reviews.text</th>\n",
       "      <th>reviews.rating</th>\n",
       "    </tr>\n",
       "  </thead>\n",
       "  <tbody>\n",
       "    <tr>\n",
       "      <th>0</th>\n",
       "      <td>AVpjEN4jLJeJML43rpUe</td>\n",
       "      <td>I can't update Facebook and a few other apps. ...</td>\n",
       "      <td>2.0</td>\n",
       "    </tr>\n",
       "    <tr>\n",
       "      <th>1</th>\n",
       "      <td>AV1YnRtnglJLPUi8IJmV</td>\n",
       "      <td>I bought this tablet for my boyfriend and he a...</td>\n",
       "      <td>5.0</td>\n",
       "    </tr>\n",
       "    <tr>\n",
       "      <th>2</th>\n",
       "      <td>AVphgVaX1cnluZ0-DR74</td>\n",
       "      <td>Bought a gift for my mom. She absolutely loved...</td>\n",
       "      <td>5.0</td>\n",
       "    </tr>\n",
       "    <tr>\n",
       "      <th>3</th>\n",
       "      <td>AVqkIhwDv8e3D1O-lebb</td>\n",
       "      <td>Love the kindle and the price was excellent. I...</td>\n",
       "      <td>5.0</td>\n",
       "    </tr>\n",
       "    <tr>\n",
       "      <th>4</th>\n",
       "      <td>AVpfpK8KLJeJML43BCuD</td>\n",
       "      <td>The Amazon Tap has great sound and is responsi...</td>\n",
       "      <td>5.0</td>\n",
       "    </tr>\n",
       "    <tr>\n",
       "      <th>...</th>\n",
       "      <td>...</td>\n",
       "      <td>...</td>\n",
       "      <td>...</td>\n",
       "    </tr>\n",
       "    <tr>\n",
       "      <th>7722</th>\n",
       "      <td>AV1YnRtnglJLPUi8IJmV</td>\n",
       "      <td>First purchase of an e reader. Kindle Paperwhi...</td>\n",
       "      <td>5.0</td>\n",
       "    </tr>\n",
       "    <tr>\n",
       "      <th>7723</th>\n",
       "      <td>AVpfl8cLLJeJML43AE3S</td>\n",
       "      <td>Easy to set up and works great with hue lighti...</td>\n",
       "      <td>5.0</td>\n",
       "    </tr>\n",
       "    <tr>\n",
       "      <th>7724</th>\n",
       "      <td>AVphgVaX1cnluZ0-DR74</td>\n",
       "      <td>Purchased for 10 and 8 yr old for xmas. They l...</td>\n",
       "      <td>5.0</td>\n",
       "    </tr>\n",
       "    <tr>\n",
       "      <th>7725</th>\n",
       "      <td>AVphgVaX1cnluZ0-DR74</td>\n",
       "      <td>I purchased this on sale for about $38.Worth e...</td>\n",
       "      <td>5.0</td>\n",
       "    </tr>\n",
       "    <tr>\n",
       "      <th>7726</th>\n",
       "      <td>AVpgNzjwLJeJML43Kpxn</td>\n",
       "      <td>They run out of power very quickly.</td>\n",
       "      <td>2.0</td>\n",
       "    </tr>\n",
       "  </tbody>\n",
       "</table>\n",
       "<p>7727 rows × 3 columns</p>\n",
       "</div>"
      ],
      "text/plain": [
       "                        id                                       reviews.text  \\\n",
       "0     AVpjEN4jLJeJML43rpUe  I can't update Facebook and a few other apps. ...   \n",
       "1     AV1YnRtnglJLPUi8IJmV  I bought this tablet for my boyfriend and he a...   \n",
       "2     AVphgVaX1cnluZ0-DR74  Bought a gift for my mom. She absolutely loved...   \n",
       "3     AVqkIhwDv8e3D1O-lebb  Love the kindle and the price was excellent. I...   \n",
       "4     AVpfpK8KLJeJML43BCuD  The Amazon Tap has great sound and is responsi...   \n",
       "...                    ...                                                ...   \n",
       "7722  AV1YnRtnglJLPUi8IJmV  First purchase of an e reader. Kindle Paperwhi...   \n",
       "7723  AVpfl8cLLJeJML43AE3S  Easy to set up and works great with hue lighti...   \n",
       "7724  AVphgVaX1cnluZ0-DR74  Purchased for 10 and 8 yr old for xmas. They l...   \n",
       "7725  AVphgVaX1cnluZ0-DR74  I purchased this on sale for about $38.Worth e...   \n",
       "7726  AVpgNzjwLJeJML43Kpxn                They run out of power very quickly.   \n",
       "\n",
       "      reviews.rating  \n",
       "0                2.0  \n",
       "1                5.0  \n",
       "2                5.0  \n",
       "3                5.0  \n",
       "4                5.0  \n",
       "...              ...  \n",
       "7722             5.0  \n",
       "7723             5.0  \n",
       "7724             5.0  \n",
       "7725             5.0  \n",
       "7726             2.0  \n",
       "\n",
       "[7727 rows x 3 columns]"
      ]
     },
     "execution_count": 67,
     "metadata": {},
     "output_type": "execute_result"
    }
   ],
   "source": []
  },
  {
   "cell_type": "code",
   "execution_count": 64,
   "metadata": {},
   "outputs": [
    {
     "name": "stdout",
     "output_type": "stream",
     "text": [
      "RandomForestClassifier()\n"
     ]
    }
   ],
   "source": [
    "\n"
   ]
  },
  {
   "cell_type": "code",
   "execution_count": null,
   "metadata": {},
   "outputs": [],
   "source": []
  },
  {
   "cell_type": "code",
   "execution_count": 7,
   "metadata": {},
   "outputs": [],
   "source": [
    "#lower case all text\n",
    "test_data[\"reviews.text\"]=test_data[\"reviews.text\"].str.lower() \n",
    "\n",
    "#tokenization of words\n",
    "test_data['reviews.text'] = test_data.apply(lambda row: word_tokenize(row['reviews.text']), axis=1) \n",
    "\n",
    "#only alphanumerical values\n",
    "test_data[\"reviews.text\"] = test_data['reviews.text'].apply(lambda x: [item for item in x if item.isalpha()]) \n",
    "\n",
    "#lemmatazing words\n",
    "test_data['reviews.text'] = test_data['reviews.text'].apply(lambda x : [WordNetLemmatizer().lemmatize(y) for y in x])\n",
    "\n",
    "#removing useless words\n",
    "stop = stopwords.words('english')\n",
    "test_data['reviews.text'] = test_data['reviews.text'].apply(lambda x: [item for item in x if item not in stop])"
   ]
  },
  {
   "cell_type": "code",
   "execution_count": 8,
   "metadata": {},
   "outputs": [],
   "source": [
    "test_data[\"reviews.text\"] = test_data[\"reviews.text\"].apply(lambda x: str(' '.join(x))) #joining all tokens"
   ]
  },
  {
   "cell_type": "code",
   "execution_count": 9,
   "metadata": {},
   "outputs": [],
   "source": [
    "sentiment = {1: 0,\n",
    "            2: 0,\n",
    "            3: 0,\n",
    "            4: 1,\n",
    "            5: 1}\n",
    "\n",
    "test_data[\"sentiment\"] = test_data[\"reviews.rating\"].map(sentiment)"
   ]
  },
  {
   "cell_type": "code",
   "execution_count": 20,
   "metadata": {},
   "outputs": [
    {
     "data": {
      "text/plain": [
       "<7727x5779 sparse matrix of type '<class 'numpy.float64'>'\n",
       "\twith 111181 stored elements in Compressed Sparse Row format>"
      ]
     },
     "execution_count": 20,
     "metadata": {},
     "output_type": "execute_result"
    }
   ],
   "source": [
    "# building tfidf matrix to train models \n",
    "from sklearn.feature_extraction.text import TfidfVectorizer\n",
    "\n",
    "vectorizer =TfidfVectorizer(max_df=0.9)\n",
    "text = vectorizer.fit_transform(test_data[\"reviews.text\"])\n",
    "text"
   ]
  },
  {
   "cell_type": "code",
   "execution_count": 33,
   "metadata": {},
   "outputs": [],
   "source": [
    "\n"
   ]
  },
  {
   "cell_type": "code",
   "execution_count": 62,
   "metadata": {},
   "outputs": [],
   "source": [
    "\n",
    "\n",
    "X_tf1 = trained_tfidf_vector.transform(final[\"reviews.text\"])"
   ]
  },
  {
   "cell_type": "code",
   "execution_count": 35,
   "metadata": {},
   "outputs": [
    {
     "data": {
      "text/plain": [
       "<7727x10872 sparse matrix of type '<class 'numpy.float64'>'\n",
       "\twith 108805 stored elements in Compressed Sparse Row format>"
      ]
     },
     "execution_count": 35,
     "metadata": {},
     "output_type": "execute_result"
    }
   ],
   "source": [
    "X_tf1"
   ]
  },
  {
   "cell_type": "code",
   "execution_count": 65,
   "metadata": {},
   "outputs": [
    {
     "data": {
      "text/plain": [
       "array([1, 1, 1, ..., 0, 1, 0], dtype=int64)"
      ]
     },
     "execution_count": 65,
     "metadata": {},
     "output_type": "execute_result"
    }
   ],
   "source": [
    "predicted_result = trained_model_rf.predict(X_tf1)\n",
    "predicted_proba = trained_model_rf.predict_proba(X_tf1)\n",
    "predicted_result"
   ]
  },
  {
   "cell_type": "code",
   "execution_count": 57,
   "metadata": {
    "collapsed": true
   },
   "outputs": [
    {
     "data": {
      "text/plain": [
       "0       0.80\n",
       "1       0.95\n",
       "2       0.93\n",
       "3       0.84\n",
       "4       0.99\n",
       "        ... \n",
       "7722    0.84\n",
       "7723    0.31\n",
       "7724    0.24\n",
       "7725    0.76\n",
       "7726    0.24\n",
       "Name: 1, Length: 7727, dtype: float64"
      ]
     },
     "execution_count": 57,
     "metadata": {},
     "output_type": "execute_result"
    }
   ],
   "source": []
  },
  {
   "cell_type": "code",
   "execution_count": 60,
   "metadata": {
    "collapsed": true
   },
   "outputs": [
    {
     "name": "stderr",
     "output_type": "stream",
     "text": [
      "<ipython-input-60-48d6417b0181>:2: SettingWithCopyWarning: \n",
      "A value is trying to be set on a copy of a slice from a DataFrame.\n",
      "Try using .loc[row_indexer,col_indexer] = value instead\n",
      "\n",
      "See the caveats in the documentation: https://pandas.pydata.org/pandas-docs/stable/user_guide/indexing.html#returning-a-view-versus-a-copy\n",
      "  result_df['actual_rating'] = final['reviews.rating']\n",
      "<ipython-input-60-48d6417b0181>:3: SettingWithCopyWarning: \n",
      "A value is trying to be set on a copy of a slice from a DataFrame.\n",
      "Try using .loc[row_indexer,col_indexer] = value instead\n",
      "\n",
      "See the caveats in the documentation: https://pandas.pydata.org/pandas-docs/stable/user_guide/indexing.html#returning-a-view-versus-a-copy\n",
      "  result_df['Prediction'] = predicted_result\n"
     ]
    },
    {
     "data": {
      "text/html": [
       "<div>\n",
       "<style scoped>\n",
       "    .dataframe tbody tr th:only-of-type {\n",
       "        vertical-align: middle;\n",
       "    }\n",
       "\n",
       "    .dataframe tbody tr th {\n",
       "        vertical-align: top;\n",
       "    }\n",
       "\n",
       "    .dataframe thead th {\n",
       "        text-align: right;\n",
       "    }\n",
       "</style>\n",
       "<table border=\"1\" class=\"dataframe\">\n",
       "  <thead>\n",
       "    <tr style=\"text-align: right;\">\n",
       "      <th></th>\n",
       "      <th>reviews.text</th>\n",
       "      <th>actual_rating</th>\n",
       "      <th>Prediction</th>\n",
       "      <th>Probability</th>\n",
       "    </tr>\n",
       "  </thead>\n",
       "  <tbody>\n",
       "    <tr>\n",
       "      <th>0</th>\n",
       "      <td>decided ditch cable research decided buy insta...</td>\n",
       "      <td>5</td>\n",
       "      <td>1</td>\n",
       "      <td>0.80</td>\n",
       "    </tr>\n",
       "    <tr>\n",
       "      <th>1</th>\n",
       "      <td>bought playstation vue new samsung tv</td>\n",
       "      <td>5</td>\n",
       "      <td>1</td>\n",
       "      <td>0.95</td>\n",
       "    </tr>\n",
       "    <tr>\n",
       "      <th>2</th>\n",
       "      <td>bought father tv happy easily navigate through...</td>\n",
       "      <td>4</td>\n",
       "      <td>1</td>\n",
       "      <td>0.93</td>\n",
       "    </tr>\n",
       "    <tr>\n",
       "      <th>3</th>\n",
       "      <td>device good people trying reduce cable bill</td>\n",
       "      <td>5</td>\n",
       "      <td>1</td>\n",
       "      <td>0.84</td>\n",
       "    </tr>\n",
       "    <tr>\n",
       "      <th>4</th>\n",
       "      <td>great streaming plex tv hassle perfect quality...</td>\n",
       "      <td>5</td>\n",
       "      <td>1</td>\n",
       "      <td>0.99</td>\n",
       "    </tr>\n",
       "    <tr>\n",
       "      <th>...</th>\n",
       "      <td>...</td>\n",
       "      <td>...</td>\n",
       "      <td>...</td>\n",
       "      <td>...</td>\n",
       "    </tr>\n",
       "    <tr>\n",
       "      <th>7722</th>\n",
       "      <td>battery trouble holding charge bought fire jul...</td>\n",
       "      <td>2</td>\n",
       "      <td>1</td>\n",
       "      <td>0.84</td>\n",
       "    </tr>\n",
       "    <tr>\n",
       "      <th>7723</th>\n",
       "      <td>daughter ha tablet almost month work well</td>\n",
       "      <td>3</td>\n",
       "      <td>0</td>\n",
       "      <td>0.31</td>\n",
       "    </tr>\n",
       "    <tr>\n",
       "      <th>7724</th>\n",
       "      <td>cheap wa impressed never</td>\n",
       "      <td>1</td>\n",
       "      <td>0</td>\n",
       "      <td>0.24</td>\n",
       "    </tr>\n",
       "    <tr>\n",
       "      <th>7725</th>\n",
       "      <td>hard use lot ad randomly close apps</td>\n",
       "      <td>2</td>\n",
       "      <td>1</td>\n",
       "      <td>0.76</td>\n",
       "    </tr>\n",
       "    <tr>\n",
       "      <th>7726</th>\n",
       "      <td>wish ha apps play store</td>\n",
       "      <td>3</td>\n",
       "      <td>0</td>\n",
       "      <td>0.24</td>\n",
       "    </tr>\n",
       "  </tbody>\n",
       "</table>\n",
       "<p>7727 rows × 4 columns</p>\n",
       "</div>"
      ],
      "text/plain": [
       "                                           reviews.text  actual_rating  \\\n",
       "0     decided ditch cable research decided buy insta...              5   \n",
       "1                 bought playstation vue new samsung tv              5   \n",
       "2     bought father tv happy easily navigate through...              4   \n",
       "3           device good people trying reduce cable bill              5   \n",
       "4     great streaming plex tv hassle perfect quality...              5   \n",
       "...                                                 ...            ...   \n",
       "7722  battery trouble holding charge bought fire jul...              2   \n",
       "7723          daughter ha tablet almost month work well              3   \n",
       "7724                           cheap wa impressed never              1   \n",
       "7725                hard use lot ad randomly close apps              2   \n",
       "7726                            wish ha apps play store              3   \n",
       "\n",
       "      Prediction  Probability  \n",
       "0              1         0.80  \n",
       "1              1         0.95  \n",
       "2              1         0.93  \n",
       "3              1         0.84  \n",
       "4              1         0.99  \n",
       "...          ...          ...  \n",
       "7722           1         0.84  \n",
       "7723           0         0.31  \n",
       "7724           0         0.24  \n",
       "7725           1         0.76  \n",
       "7726           0         0.24  \n",
       "\n",
       "[7727 rows x 4 columns]"
      ]
     },
     "execution_count": 60,
     "metadata": {},
     "output_type": "execute_result"
    }
   ],
   "source": [
    "result_df = test_data[['reviews.text']]\n",
    "result_df['actual_rating'] = test_data['reviews.rating']\n",
    "result_df['Prediction'] = predicted_result\n",
    "result_df['Probability']=np.round(pd.DataFrame(predicted_proba)[1],2)\n",
    "result_df"
   ]
  },
  {
   "cell_type": "code",
   "execution_count": null,
   "metadata": {},
   "outputs": [],
   "source": []
  },
  {
   "cell_type": "code",
   "execution_count": null,
   "metadata": {},
   "outputs": [],
   "source": []
  },
  {
   "cell_type": "code",
   "execution_count": null,
   "metadata": {},
   "outputs": [],
   "source": []
  },
  {
   "cell_type": "code",
   "execution_count": null,
   "metadata": {},
   "outputs": [],
   "source": []
  },
  {
   "cell_type": "code",
   "execution_count": null,
   "metadata": {},
   "outputs": [],
   "source": []
  },
  {
   "cell_type": "code",
   "execution_count": null,
   "metadata": {},
   "outputs": [],
   "source": []
  },
  {
   "cell_type": "code",
   "execution_count": null,
   "metadata": {},
   "outputs": [],
   "source": []
  },
  {
   "cell_type": "code",
   "execution_count": null,
   "metadata": {},
   "outputs": [],
   "source": []
  },
  {
   "cell_type": "code",
   "execution_count": null,
   "metadata": {},
   "outputs": [],
   "source": []
  },
  {
   "cell_type": "code",
   "execution_count": null,
   "metadata": {},
   "outputs": [],
   "source": []
  },
  {
   "cell_type": "code",
   "execution_count": null,
   "metadata": {},
   "outputs": [],
   "source": []
  },
  {
   "cell_type": "code",
   "execution_count": null,
   "metadata": {},
   "outputs": [],
   "source": []
  },
  {
   "cell_type": "code",
   "execution_count": null,
   "metadata": {},
   "outputs": [],
   "source": []
  },
  {
   "cell_type": "code",
   "execution_count": null,
   "metadata": {},
   "outputs": [],
   "source": []
  },
  {
   "cell_type": "code",
   "execution_count": null,
   "metadata": {},
   "outputs": [],
   "source": []
  }
 ],
 "metadata": {
  "kernelspec": {
   "display_name": "Python 3",
   "language": "python",
   "name": "python3"
  },
  "language_info": {
   "codemirror_mode": {
    "name": "ipython",
    "version": 3
   },
   "file_extension": ".py",
   "mimetype": "text/x-python",
   "name": "python",
   "nbconvert_exporter": "python",
   "pygments_lexer": "ipython3",
   "version": "3.8.3"
  }
 },
 "nbformat": 4,
 "nbformat_minor": 4
}
